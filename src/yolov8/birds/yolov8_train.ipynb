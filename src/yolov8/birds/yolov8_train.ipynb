{
 "cells": [
  {
   "cell_type": "code",
   "execution_count": 1,
   "metadata": {
    "gather": {
     "logged": 1698781538647
    }
   },
   "outputs": [],
   "source": [
    "# Handle to the workspace\n",
    "from azure.ai.ml import MLClient\n",
    "\n",
    "# Authentication package\n",
    "from azure.identity import DefaultAzureCredential\n",
    "\n",
    "credential = DefaultAzureCredential()"
   ]
  },
  {
   "cell_type": "code",
   "execution_count": 2,
   "metadata": {
    "gather": {
     "logged": 1698781541420
    },
    "jupyter": {
     "outputs_hidden": false,
     "source_hidden": false
    },
    "nteract": {
     "transient": {
      "deleting": false
     }
    }
   },
   "outputs": [],
   "source": [
    "# Parameters (make sure these are correct)\n",
    "subscr_id = \"\" \n",
    "resc_name = \"\"\n",
    "worksp_name = \"\"\n",
    "\n",
    "# Get a handle to the workspace\n",
    "ml_client = MLClient(\n",
    "    credential = credential,\n",
    "    subscription_id = subscr_id,\n",
    "    resource_group_name = resc_name,\n",
    "    workspace_name = worksp_name,\n",
    ")\n",
    "\n",
    "# ws \n",
    "# from azureml.core import Workspace\n",
    "# ws = Workspace(subscr_id, resc_name, worksp_name)"
   ]
  },
  {
   "cell_type": "code",
   "execution_count": 6,
   "metadata": {
    "gather": {
     "logged": 1698781544698
    },
    "jupyter": {
     "outputs_hidden": false,
     "source_hidden": false
    },
    "nteract": {
     "transient": {
      "deleting": false
     }
    }
   },
   "outputs": [
    {
     "name": "stdout",
     "output_type": "stream",
     "text": [
      "You already have a cluster named gpu-cluster110GB, we'll reuse it as is.\n",
      "AMLCompute with name gpu-cluster110GB is created, the compute size is STANDARD_NC16AS_T4_V3\n"
     ]
    }
   ],
   "source": [
    "### First run az login in a command prompt to make sure you have authenticated using the Azure CLI\n",
    "\n",
    "from azure.ai.ml.entities import AmlCompute\n",
    "\n",
    "cpu_compute_target = \"\"\n",
    "cpu_size = \"\"\n",
    "\n",
    "gpu_compute_target = \"\"\n",
    "gpu_size = \"\"\n",
    "\n",
    "def create_compute(target, size):\n",
    "    try:\n",
    "        # let's see if the compute target already exists\n",
    "        cluster = ml_client.compute.get(target)\n",
    "        print(\n",
    "            f\"You already have a cluster named {target}, we'll reuse it as is.\"\n",
    "        )\n",
    "\n",
    "    except Exception:\n",
    "        print(\"Creating a new compute target...\")\n",
    "\n",
    "        # Let's create the Azure ML compute object with the intended parameters\n",
    "        cluster = AmlCompute(\n",
    "            # Name assigned to the compute cluster\n",
    "            name=target,\n",
    "            # Azure ML Compute is the on-demand VM service\n",
    "            type=\"amlcompute\",\n",
    "            # VM Family\n",
    "            size=size,\n",
    "            # Minimum running nodes when there is no job running\n",
    "            min_instances=0,\n",
    "            # Nodes in cluster\n",
    "            max_instances=4,\n",
    "            # How many seconds will the node running after the job termination\n",
    "            idle_time_before_scale_down=180,\n",
    "            # Dedicated or LowPriority. The latter is cheaper but there is a chance of job termination\n",
    "            tier=\"Dedicated\",\n",
    "        )\n",
    "\n",
    "        # Now, we pass the object to MLClient's create_or_update method\n",
    "        cluster = ml_client.begin_create_or_update(cluster).result()\n",
    "\n",
    "    print(\n",
    "        f\"AMLCompute with name {cluster.name} is created, the compute size is {cluster.size}\"\n",
    "    )\n",
    "    \n",
    "    return target\n",
    "    \n",
    "compute_target = create_compute(gpu_compute_target, gpu_size)"
   ]
  },
  {
   "cell_type": "code",
   "execution_count": 7,
   "metadata": {
    "gather": {
     "logged": 1698781547772
    },
    "jupyter": {
     "outputs_hidden": false,
     "source_hidden": false
    },
    "nteract": {
     "transient": {
      "deleting": false
     }
    }
   },
   "outputs": [],
   "source": [
    "# For job\n",
    "env_name = \"yolov8-env@latest\"\n",
    "\n",
    "# Or\n",
    "# from azureml.core import Environment\n",
    "# mycustomenv = Environment(name=\"detectron2-env@latest\")"
   ]
  },
  {
   "cell_type": "code",
   "execution_count": 8,
   "metadata": {
    "gather": {
     "logged": 1698781550742
    },
    "jupyter": {
     "outputs_hidden": false,
     "source_hidden": false
    },
    "nteract": {
     "transient": {
      "deleting": false
     }
    }
   },
   "outputs": [],
   "source": [
    "from azure.ai.ml import MLClient, command, Input\n",
    "from azure.ai.ml import command, Input, MLClient, UserIdentityConfiguration, ManagedIdentityConfiguration\n",
    "from azure.ai.ml.entities import Data\n",
    "from azure.ai.ml.constants import AssetTypes, InputOutputModes\n",
    "from azure.identity import DefaultAzureCredential\n",
    "import os\n",
    "\n",
    "# Load from local (test)\n",
    "data_path = r\"\" #/YOLO\"\n",
    "\n",
    "# Load from Azure container\n",
    "data_path = r\"\"\n",
    "\n",
    "# Load from data asset \n",
    "# train_data_asset = ml_client.data.get(\"test_dataasset\", version=\"1\")\n",
    "# data_path = train_data_asset.id\n",
    "\n",
    "# If Azure container, you may need identity\n",
    "identity = UserIdentityConfiguration() # Use the user's identity\n",
    "# identity = ManagedIdentityConfiguration() # Use the compute target managed identity"
   ]
  },
  {
   "cell_type": "code",
   "execution_count": 9,
   "metadata": {
    "gather": {
     "logged": 1698781560134
    },
    "jupyter": {
     "outputs_hidden": false,
     "source_hidden": false
    },
    "nteract": {
     "transient": {
      "deleting": false
     }
    }
   },
   "outputs": [
    {
     "name": "stderr",
     "output_type": "stream",
     "text": [
      "Class AutoDeleteSettingSchema: This is an experimental class, and may change at any time. Please see https://aka.ms/azuremlexperimental for more information.\n",
      "Class AutoDeleteConditionSchema: This is an experimental class, and may change at any time. Please see https://aka.ms/azuremlexperimental for more information.\n",
      "Class BaseAutoDeleteSettingSchema: This is an experimental class, and may change at any time. Please see https://aka.ms/azuremlexperimental for more information.\n",
      "Class IntellectualPropertySchema: This is an experimental class, and may change at any time. Please see https://aka.ms/azuremlexperimental for more information.\n",
      "Class ProtectionLevelSchema: This is an experimental class, and may change at any time. Please see https://aka.ms/azuremlexperimental for more information.\n",
      "Class BaseIntellectualPropertySchema: This is an experimental class, and may change at any time. Please see https://aka.ms/azuremlexperimental for more information.\n",
      "\u001b[32mUploading yolov8 (0.06 MBs): 100%|############################################| 63066/63066 [00:01<00:00, 48516.25it/s]\u001b[0m\n",
      "\u001b[39m\n",
      "\n"
     ]
    },
    {
     "data": {
      "text/html": [
       "<table style=\"width:100%\"><tr><th>Experiment</th><th>Name</th><th>Type</th><th>Status</th><th>Details Page</th></tr><tr><td>yolov8-mc</td><td>icy_bulb_rnzqx912m2</td><td>command</td><td>Starting</td><td><a href=\"https://ml.azure.com/runs/icy_bulb_rnzqx912m2?wsid=/subscriptions/2be2dbbb-7c00-4b84-8fba-4b0199750c01/resourcegroups/marterkist5/workspaces/detectron2-workspace&amp;tid=a9e09f71-c4d5-45a8-867d-7f23ceb6dfab\" target=\"_blank\" rel=\"noopener\">Link to Azure Machine Learning studio</a></td></tr></table>"
      ],
      "text/plain": [
       "Command({'parameters': {}, 'init': False, 'name': 'icy_bulb_rnzqx912m2', 'type': 'command', 'status': 'Starting', 'log_files': None, 'description': None, 'tags': {}, 'properties': {'_azureml.ComputeTargetType': 'amlctrain', '_azureml.ClusterName': 'gpu-cluster110GB', 'ContentSnapshotId': '5f89f1f6-26e5-447b-b2aa-32ed674cfcb2'}, 'print_as_yaml': True, 'id': '/subscriptions/2be2dbbb-7c00-4b84-8fba-4b0199750c01/resourceGroups/marterkist5/providers/Microsoft.MachineLearningServices/workspaces/detectron2-workspace/jobs/icy_bulb_rnzqx912m2', 'Resource__source_path': None, 'base_path': 'C:\\\\Users\\\\augus\\\\Documents\\\\Studie\\\\MGI\\\\Internship\\\\detection-segmentation\\\\azure\\\\code\\\\yolov8', 'creation_context': <azure.ai.ml.entities._system_data.SystemData object at 0x0000020C9C224810>, 'serialize': <msrest.serialization.Serializer object at 0x0000020C9BE92B10>, 'allowed_keys': {}, 'key_restriction': False, 'logger': <Logger attr_dict (WARNING)>, 'display_name': 'icy_bulb_rnzqx912m2', 'experiment_name': 'yolov8-mc', 'compute': 'gpu-cluster110GB', 'services': {'Tracking': {'endpoint': 'azureml://eastus.api.azureml.ms/mlflow/v1.0/subscriptions/2be2dbbb-7c00-4b84-8fba-4b0199750c01/resourceGroups/marterkist5/providers/Microsoft.MachineLearningServices/workspaces/detectron2-workspace?', 'type': 'Tracking'}, 'Studio': {'endpoint': 'https://ml.azure.com/runs/icy_bulb_rnzqx912m2?wsid=/subscriptions/2be2dbbb-7c00-4b84-8fba-4b0199750c01/resourcegroups/marterkist5/workspaces/detectron2-workspace&tid=a9e09f71-c4d5-45a8-867d-7f23ceb6dfab', 'type': 'Studio'}}, 'comment': None, 'job_inputs': {'train_data': {'type': 'uri_folder', 'path': 'wasbs://data-container@detectron2work1228828607.blob.core.windows.net/Ready/5m/0bg', 'mode': 'ro_mount'}, 'epochs': '1', 'batch': '5', 'lr0': '0.0033787', 'imgsz': '538'}, 'job_outputs': {'default': {'type': 'uri_folder', 'path': 'azureml://datastores/workspaceartifactstore/ExperimentRun/dcid.icy_bulb_rnzqx912m2', 'mode': 'rw_mount'}}, 'inputs': {'train_data': <azure.ai.ml.entities._job.pipeline._io.base.NodeInput object at 0x0000020C9C1C1DD0>, 'epochs': <azure.ai.ml.entities._job.pipeline._io.base.NodeInput object at 0x0000020C9BE6AC90>, 'batch': <azure.ai.ml.entities._job.pipeline._io.base.NodeInput object at 0x0000020C9BB48F90>, 'lr0': <azure.ai.ml.entities._job.pipeline._io.base.NodeInput object at 0x0000020C9BE91B10>, 'imgsz': <azure.ai.ml.entities._job.pipeline._io.base.NodeInput object at 0x0000020C9BE90CD0>}, 'outputs': {'default': <azure.ai.ml.entities._job.pipeline._io.base.NodeOutput object at 0x0000020C9BE914D0>}, 'component': CommandComponent({'intellectual_property': None, 'auto_increment_version': True, 'source': 'REMOTE.WORKSPACE.JOB', 'is_anonymous': False, 'auto_delete_setting': None, 'name': 'icy_bulb_rnzqx912m2', 'description': None, 'tags': {}, 'properties': {}, 'print_as_yaml': True, 'id': None, 'Resource__source_path': None, 'base_path': 'C:\\\\Users\\\\augus\\\\Documents\\\\Studie\\\\MGI\\\\Internship\\\\detection-segmentation\\\\azure\\\\code\\\\yolov8', 'creation_context': <azure.ai.ml.entities._system_data.SystemData object at 0x0000020C9C224810>, 'serialize': <msrest.serialization.Serializer object at 0x0000020C9C1C1750>, 'command': 'python yolov8_train.py --traindata ${{inputs.train_data}} --epochs ${{inputs.epochs}} --lr0 ${{inputs.lr0}} --imgsz ${{inputs.imgsz}}', 'code': '/subscriptions/2be2dbbb-7c00-4b84-8fba-4b0199750c01/resourceGroups/marterkist5/providers/Microsoft.MachineLearningServices/workspaces/detectron2-workspace/codes/f8cba15c-3aa6-463f-8266-c86c9ee74ddf/versions/1', 'environment_variables': {}, 'environment': '/subscriptions/2be2dbbb-7c00-4b84-8fba-4b0199750c01/resourceGroups/marterkist5/providers/Microsoft.MachineLearningServices/workspaces/detectron2-workspace/environments/yolov8-env/versions/18', 'distribution': None, 'resources': None, 'queue_settings': None, 'version': None, 'latest_version': None, 'schema': None, 'type': 'command', 'display_name': 'icy_bulb_rnzqx912m2', 'is_deterministic': True, 'inputs': {'train_data': {'type': 'uri_folder', 'path': 'wasbs://data-container@detectron2work1228828607.blob.core.windows.net/Ready/5m/0bg', 'mode': 'ro_mount'}, 'epochs': {'type': 'string', 'default': '1'}, 'batch': {'type': 'string', 'default': '5'}, 'lr0': {'type': 'string', 'default': '0.0033787'}, 'imgsz': {'type': 'string', 'default': '538'}}, 'outputs': {'default': {'type': 'uri_folder', 'path': 'azureml://datastores/workspaceartifactstore/ExperimentRun/dcid.icy_bulb_rnzqx912m2', 'mode': 'rw_mount'}}, 'yaml_str': None, 'other_parameter': {'status': 'Starting', 'parameters': {}}, 'additional_includes': []}), 'referenced_control_flow_node_instance_id': None, 'kwargs': {'services': {'Tracking': {'endpoint': 'azureml://eastus.api.azureml.ms/mlflow/v1.0/subscriptions/2be2dbbb-7c00-4b84-8fba-4b0199750c01/resourceGroups/marterkist5/providers/Microsoft.MachineLearningServices/workspaces/detectron2-workspace?', 'type': 'Tracking'}, 'Studio': {'endpoint': 'https://ml.azure.com/runs/icy_bulb_rnzqx912m2?wsid=/subscriptions/2be2dbbb-7c00-4b84-8fba-4b0199750c01/resourcegroups/marterkist5/workspaces/detectron2-workspace&tid=a9e09f71-c4d5-45a8-867d-7f23ceb6dfab', 'type': 'Studio'}}, 'status': 'Starting', 'creation_context': <azure.ai.ml.entities._system_data.SystemData object at 0x0000020C9C224810>}, 'instance_id': '39231c2b-f92a-4f22-af5d-0b2ec91129ab', 'source': 'BUILDER', 'validate_required_input_not_provided': True, 'limits': None, 'identity': {'type': 'user_identity'}, 'distribution': None, 'environment_variables': {}, 'environment': 'yolov8-env:18', 'resources': {'instance_count': 1, 'shm_size': '2g'}, 'queue_settings': None, 'swept': False})"
      ]
     },
     "execution_count": 9,
     "metadata": {},
     "output_type": "execute_result"
    }
   ],
   "source": [
    "from azure.ai.ml import command\n",
    "from azure.ai.ml import Input\n",
    "import os\n",
    "import json\n",
    "\n",
    "# Set job and run\n",
    "job = command(\n",
    "     code=\".\", \n",
    "     command='python yolov8_train.py --traindata ${{inputs.train_data}} --epochs ${{inputs.epochs}} --batch ${{inputs.batch}} --lr0 ${{inputs.lr0}} --imgsz ${{inputs.imgsz}}',\n",
    "     inputs={\n",
    "         \"train_data\": Input(path=data_path,\n",
    "             type=AssetTypes.URI_FOLDER,\n",
    "             mode=InputOutputModes.RO_MOUNT # Cannot use RW_MOUNT?\n",
    "         ),\n",
    "         \"epochs\": 1,\n",
    "         \"batch\": 5,\n",
    "         \"lr0\": 0.0033787, # 0.0033787 used for best detectron2\n",
    "         \"imgsz\": 538,\n",
    "     },\n",
    "     compute=compute_target,\n",
    "     environment=env_name,\n",
    "     outputs={},  # Add any required outputs here\n",
    "     identity=identity,\n",
    "     experiment_name=\"yolov8-mc\", # cannot use deleted names\n",
    " )\n",
    "\n",
    "ml_client.jobs.create_or_update(job)"
   ]
  },
  {
   "cell_type": "code",
   "execution_count": 8,
   "metadata": {
    "jupyter": {
     "outputs_hidden": false,
     "source_hidden": false
    },
    "nteract": {
     "transient": {
      "deleting": false
     }
    }
   },
   "outputs": [],
   "source": [
    "from azure.ai.ml.sweep import Choice, Uniform, MedianStoppingPolicy\n",
    "\n",
    "job_for_sweep = job(\n",
    "    epochs=Choice(values=[1, 10]),\n",
    "    batch=Choice(values=[5]),\n",
    "    lr0=Choice(values=[0.0033787]),\n",
    "    imgsz=Choice(values=[538])\n",
    ")"
   ]
  },
  {
   "cell_type": "code",
   "execution_count": 10,
   "metadata": {},
   "outputs": [
    {
     "ename": "TypeError",
     "evalue": "Command.sweep() got an unexpected keyword argument 'experiment_name'",
     "output_type": "error",
     "traceback": [
      "\u001b[1;31m---------------------------------------------------------------------------\u001b[0m",
      "\u001b[1;31mTypeError\u001b[0m                                 Traceback (most recent call last)",
      "Cell \u001b[1;32mIn[10], line 2\u001b[0m\n\u001b[0;32m      1\u001b[0m \u001b[38;5;66;03m# apply the sweep parameter to obtain the sweep_job\u001b[39;00m\n\u001b[1;32m----> 2\u001b[0m sweep_job \u001b[38;5;241m=\u001b[39m job_for_sweep\u001b[38;5;241m.\u001b[39msweep(\n\u001b[0;32m      3\u001b[0m     compute\u001b[38;5;241m=\u001b[39mcompute_target,\n\u001b[0;32m      4\u001b[0m     sampling_algorithm\u001b[38;5;241m=\u001b[39m\u001b[38;5;124m\"\u001b[39m\u001b[38;5;124mrandom\u001b[39m\u001b[38;5;124m\"\u001b[39m,\n\u001b[0;32m      5\u001b[0m     primary_metric\u001b[38;5;241m=\u001b[39m\u001b[38;5;124m\"\u001b[39m\u001b[38;5;124mtotal val loss\u001b[39m\u001b[38;5;124m\"\u001b[39m,\n\u001b[0;32m      6\u001b[0m     goal\u001b[38;5;241m=\u001b[39m\u001b[38;5;124m\"\u001b[39m\u001b[38;5;124mMinimize\u001b[39m\u001b[38;5;124m\"\u001b[39m,\n\u001b[0;32m      7\u001b[0m     experiment_name\u001b[38;5;241m=\u001b[39m\u001b[38;5;124m\"\u001b[39m\u001b[38;5;124myolov8-mc\u001b[39m\u001b[38;5;124m\"\u001b[39m\n\u001b[0;32m      8\u001b[0m )\n\u001b[0;32m     10\u001b[0m \u001b[38;5;66;03m# define the limits for this sweep\u001b[39;00m\n\u001b[0;32m     11\u001b[0m sweep_job\u001b[38;5;241m.\u001b[39mset_limits(max_total_trials\u001b[38;5;241m=\u001b[39m\u001b[38;5;241m20\u001b[39m, max_concurrent_trials\u001b[38;5;241m=\u001b[39m\u001b[38;5;241m1\u001b[39m)\n",
      "\u001b[1;31mTypeError\u001b[0m: Command.sweep() got an unexpected keyword argument 'experiment_name'"
     ]
    }
   ],
   "source": [
    "# apply the sweep parameter to obtain the sweep_job\n",
    "sweep_job = job_for_sweep.sweep(\n",
    "    compute=compute_target,\n",
    "    sampling_algorithm=\"random\",\n",
    "    primary_metric=\"total val loss\",\n",
    "    goal=\"Minimize\",\n",
    ")\n",
    "\n",
    "# define the limits for this sweep\n",
    "sweep_job.set_limits(max_total_trials=20, max_concurrent_trials=1)\n",
    "\n",
    "# define stopping policy\n",
    "# sweep_job.early_termination = MedianStoppingPolicy(delay_evaluation = int(num_epochs/4), evaluation_interval = int(num_epochs/4))\n",
    "\n",
    "# submit the sweep\n",
    "ml_client.create_or_update(sweep_job)"
   ]
  },
  {
   "cell_type": "code",
   "execution_count": null,
   "metadata": {},
   "outputs": [],
   "source": []
  }
 ],
 "metadata": {
  "kernel_info": {
   "name": "python310-sdkv2"
  },
  "kernelspec": {
   "display_name": "Python 3 (ipykernel)",
   "language": "python",
   "name": "python3"
  },
  "language_info": {
   "codemirror_mode": {
    "name": "ipython",
    "version": 3
   },
   "file_extension": ".py",
   "mimetype": "text/x-python",
   "name": "python",
   "nbconvert_exporter": "python",
   "pygments_lexer": "ipython3",
   "version": "3.11.5"
  },
  "microsoft": {
   "host": {
    "AzureML": {
     "notebookHasBeenCompleted": true
    }
   },
   "ms_spell_check": {
    "ms_spell_check_language": "en"
   }
  },
  "nteract": {
   "version": "nteract-front-end@1.0.0"
  }
 },
 "nbformat": 4,
 "nbformat_minor": 2
}
