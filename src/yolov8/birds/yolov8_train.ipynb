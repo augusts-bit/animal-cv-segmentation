{
 "cells": [
  {
   "cell_type": "code",
   "execution_count": 1,
   "metadata": {
    "gather": {
     "logged": 1698781538647
    }
   },
   "outputs": [],
   "source": [
    "# Handle to the workspace\n",
    "from azure.ai.ml import MLClient\n",
    "\n",
    "# Authentication package\n",
    "from azure.identity import DefaultAzureCredential\n",
    "\n",
    "credential = DefaultAzureCredential()"
   ]
  },
  {
   "cell_type": "code",
   "execution_count": 2,
   "metadata": {
    "gather": {
     "logged": 1698781541420
    },
    "jupyter": {
     "outputs_hidden": false,
     "source_hidden": false
    },
    "nteract": {
     "transient": {
      "deleting": false
     }
    }
   },
   "outputs": [],
   "source": [
    "# Parameters (make sure these are correct)\n",
    "subscr_id = \"\" \n",
    "resc_name = \"\"\n",
    "worksp_name = \"\"\n",
    "\n",
    "# Get a handle to the workspace\n",
    "ml_client = MLClient(\n",
    "    credential = credential,\n",
    "    subscription_id = subscr_id,\n",
    "    resource_group_name = resc_name,\n",
    "    workspace_name = worksp_name,\n",
    ")\n",
    "\n",
    "# ws \n",
    "# from azureml.core import Workspace\n",
    "# ws = Workspace(subscr_id, resc_name, worksp_name)"
   ]
  },
  {
   "cell_type": "code",
   "execution_count": 3,
   "metadata": {
    "gather": {
     "logged": 1698781544698
    },
    "jupyter": {
     "outputs_hidden": false,
     "source_hidden": false
    },
    "nteract": {
     "transient": {
      "deleting": false
     }
    }
   },
   "outputs": [
    {
     "name": "stdout",
     "output_type": "stream",
     "text": [
      "You already have a cluster named cpu-cluster32GB, we'll reuse it as is.\n",
      "AMLCompute with name cpu-cluster32GB is created, the compute size is STANDARD_E4S_V3\n"
     ]
    }
   ],
   "source": [
    "### First run az login in a command prompt to make sure you have authenticated using the Azure CLI\n",
    "\n",
    "from azure.ai.ml.entities import AmlCompute\n",
    "\n",
    "cpu_compute_target = \"\"\n",
    "cpu_size = \"\"\n",
    "\n",
    "gpu_compute_target = \"\"\n",
    "gpu_size = \"\"\n",
    "\n",
    "def create_compute(target, size):\n",
    "    try:\n",
    "        # let's see if the compute target already exists\n",
    "        cluster = ml_client.compute.get(target)\n",
    "        print(\n",
    "            f\"You already have a cluster named {target}, we'll reuse it as is.\"\n",
    "        )\n",
    "\n",
    "    except Exception:\n",
    "        print(\"Creating a new compute target...\")\n",
    "\n",
    "        # Let's create the Azure ML compute object with the intended parameters\n",
    "        cluster = AmlCompute(\n",
    "            # Name assigned to the compute cluster\n",
    "            name=target,\n",
    "            # Azure ML Compute is the on-demand VM service\n",
    "            type=\"amlcompute\",\n",
    "            # VM Family\n",
    "            size=size,\n",
    "            # Minimum running nodes when there is no job running\n",
    "            min_instances=0,\n",
    "            # Nodes in cluster\n",
    "            max_instances=4,\n",
    "            # How many seconds will the node running after the job termination\n",
    "            idle_time_before_scale_down=180,\n",
    "            # Dedicated or LowPriority. The latter is cheaper but there is a chance of job termination\n",
    "            tier=\"Dedicated\",\n",
    "        )\n",
    "\n",
    "        # Now, we pass the object to MLClient's create_or_update method\n",
    "        cluster = ml_client.begin_create_or_update(cluster).result()\n",
    "\n",
    "    print(\n",
    "        f\"AMLCompute with name {cluster.name} is created, the compute size is {cluster.size}\"\n",
    "    )\n",
    "    \n",
    "    return target\n",
    "    \n",
    "compute_target = create_compute(cpu_compute_target, cpu_size)"
   ]
  },
  {
   "cell_type": "code",
   "execution_count": 4,
   "metadata": {
    "gather": {
     "logged": 1698781547772
    },
    "jupyter": {
     "outputs_hidden": false,
     "source_hidden": false
    },
    "nteract": {
     "transient": {
      "deleting": false
     }
    }
   },
   "outputs": [],
   "source": [
    "# For job\n",
    "env_name = \"yolov8-env@latest\"\n",
    "\n",
    "# Or\n",
    "# from azureml.core import Environment\n",
    "# mycustomenv = Environment(name=\"detectron2-env@latest\")"
   ]
  },
  {
   "cell_type": "code",
   "execution_count": 10,
   "metadata": {
    "gather": {
     "logged": 1698781550742
    },
    "jupyter": {
     "outputs_hidden": false,
     "source_hidden": false
    },
    "nteract": {
     "transient": {
      "deleting": false
     }
    }
   },
   "outputs": [],
   "source": [
    "from azure.ai.ml import MLClient, command, Input\n",
    "from azure.ai.ml import command, Input, MLClient, UserIdentityConfiguration, ManagedIdentityConfiguration\n",
    "from azure.ai.ml.entities import Data\n",
    "from azure.ai.ml.constants import AssetTypes, InputOutputModes\n",
    "from azure.identity import DefaultAzureCredential\n",
    "import os\n",
    "\n",
    "# Load from local (test)\n",
    "data_path = r\"C:/Users/augus/Documents/Studie/MGI/Internship/detection-segmentation/Data/Ready/test\" #/YOLO\"\n",
    "\n",
    "# Load from Azure container\n",
    "data_path = r\"wasbs://data-container@...\"\n",
    "\n",
    "# Load from data asset \n",
    "# train_data_asset = ml_client.data.get(\"test_dataasset\", version=\"1\")\n",
    "# data_path = train_data_asset.id\n",
    "\n",
    "# If Azure container, you may need identity\n",
    "identity = UserIdentityConfiguration() # Use the user's identity\n",
    "# identity = ManagedIdentityConfiguration() # Use the compute target managed identity"
   ]
  },
  {
   "cell_type": "code",
   "execution_count": 14,
   "metadata": {
    "gather": {
     "logged": 1698781560134
    },
    "jupyter": {
     "outputs_hidden": false,
     "source_hidden": false
    },
    "nteract": {
     "transient": {
      "deleting": false
     }
    }
   },
   "outputs": [
    {
     "name": "stderr",
     "output_type": "stream",
     "text": [
      "\u001b[32mUploading yolov8 (0.06 MBs): 100%|############################################| 55392/55392 [00:03<00:00, 14321.51it/s]\u001b[0m\n",
      "\u001b[39m\n",
      "\n"
     ]
    },
    {
     "data": {
      "text/html": [
       "<table style=\"width:100%\"><tr><th>Experiment</th><th>Name</th><th>Type</th><th>Status</th><th>Details Page</th></tr><tr><td>yolov8-mc</td><td>plucky_squash_wsycsh90wf</td><td>command</td><td>Starting</td><td><a href=\"https://ml.azure.com/runs/plucky_squash_wsycsh90wf?wsid=/subscriptions/2be2dbbb-7c00-4b84-8fba-4b0199750c01/resourcegroups/marterkist5/workspaces/detectron2-workspace&amp;tid=a9e09f71-c4d5-45a8-867d-7f23ceb6dfab\" target=\"_blank\" rel=\"noopener\">Link to Azure Machine Learning studio</a></td></tr></table>"
      ],
      "text/plain": [
       "Command({'parameters': {}, 'init': False, 'name': 'plucky_squash_wsycsh90wf', 'type': 'command', 'status': 'Starting', 'log_files': None, 'description': None, 'tags': {}, 'properties': {'_azureml.ComputeTargetType': 'amlctrain', '_azureml.ClusterName': 'cpu-cluster32GB', 'ContentSnapshotId': '1af8c2ce-e9bd-4250-9610-34b980c2ef2b'}, 'print_as_yaml': True, 'id': '/subscriptions/2be2dbbb-7c00-4b84-8fba-4b0199750c01/resourceGroups/marterkist5/providers/Microsoft.MachineLearningServices/workspaces/detectron2-workspace/jobs/plucky_squash_wsycsh90wf', 'Resource__source_path': None, 'base_path': 'C:\\\\Users\\\\augus\\\\Documents\\\\Studie\\\\MGI\\\\Internship\\\\detection-segmentation\\\\azure\\\\code\\\\yolov8', 'creation_context': <azure.ai.ml.entities._system_data.SystemData object at 0x000002275EEFF310>, 'serialize': <msrest.serialization.Serializer object at 0x000002275EEA8F10>, 'allowed_keys': {}, 'key_restriction': False, 'logger': <Logger attr_dict (WARNING)>, 'display_name': 'plucky_squash_wsycsh90wf', 'experiment_name': 'yolov8-mc', 'compute': 'cpu-cluster32GB', 'services': {'Tracking': {'endpoint': 'azureml://eastus.api.azureml.ms/mlflow/v1.0/subscriptions/2be2dbbb-7c00-4b84-8fba-4b0199750c01/resourceGroups/marterkist5/providers/Microsoft.MachineLearningServices/workspaces/detectron2-workspace?', 'type': 'Tracking'}, 'Studio': {'endpoint': 'https://ml.azure.com/runs/plucky_squash_wsycsh90wf?wsid=/subscriptions/2be2dbbb-7c00-4b84-8fba-4b0199750c01/resourcegroups/marterkist5/workspaces/detectron2-workspace&tid=a9e09f71-c4d5-45a8-867d-7f23ceb6dfab', 'type': 'Studio'}}, 'comment': None, 'job_inputs': {'train_data': {'type': 'uri_folder', 'path': 'wasbs://data-container@detectron2work1228828607.blob.core.windows.net/Ready/5m/0bg', 'mode': 'ro_mount'}, 'epochs': '1', 'batch': '5', 'lr0': '0.0033787', 'imgsz': '538'}, 'job_outputs': {'default': {'type': 'uri_folder', 'path': 'azureml://datastores/workspaceartifactstore/ExperimentRun/dcid.plucky_squash_wsycsh90wf', 'mode': 'rw_mount'}}, 'inputs': {'train_data': <azure.ai.ml.entities._job.pipeline._io.base.NodeInput object at 0x000002275EB86E10>, 'epochs': <azure.ai.ml.entities._job.pipeline._io.base.NodeInput object at 0x000002275EEA9850>, 'batch': <azure.ai.ml.entities._job.pipeline._io.base.NodeInput object at 0x000002275EEA9050>, 'lr0': <azure.ai.ml.entities._job.pipeline._io.base.NodeInput object at 0x000002275EEA9510>, 'imgsz': <azure.ai.ml.entities._job.pipeline._io.base.NodeInput object at 0x000002275EEAAA50>}, 'outputs': {'default': <azure.ai.ml.entities._job.pipeline._io.base.NodeOutput object at 0x000002275EEA9090>}, 'component': CommandComponent({'intellectual_property': None, 'auto_increment_version': True, 'source': 'REMOTE.WORKSPACE.JOB', 'is_anonymous': False, 'auto_delete_setting': None, 'name': 'plucky_squash_wsycsh90wf', 'description': None, 'tags': {}, 'properties': {}, 'print_as_yaml': True, 'id': None, 'Resource__source_path': None, 'base_path': 'C:\\\\Users\\\\augus\\\\Documents\\\\Studie\\\\MGI\\\\Internship\\\\detection-segmentation\\\\azure\\\\code\\\\yolov8', 'creation_context': <azure.ai.ml.entities._system_data.SystemData object at 0x000002275EEFF310>, 'serialize': <msrest.serialization.Serializer object at 0x000002275EEB3550>, 'command': 'python yolov8_train.py --traindata ${{inputs.train_data}} --epochs ${{inputs.epochs}} --lr0 ${{inputs.lr0}} --imgsz ${{inputs.imgsz}}', 'code': '/subscriptions/2be2dbbb-7c00-4b84-8fba-4b0199750c01/resourceGroups/marterkist5/providers/Microsoft.MachineLearningServices/workspaces/detectron2-workspace/codes/f17f9284-9bce-4396-8b51-d8f9f640bb79/versions/1', 'environment_variables': {}, 'environment': '/subscriptions/2be2dbbb-7c00-4b84-8fba-4b0199750c01/resourceGroups/marterkist5/providers/Microsoft.MachineLearningServices/workspaces/detectron2-workspace/environments/yolov8-env/versions/18', 'distribution': None, 'resources': None, 'queue_settings': None, 'version': None, 'latest_version': None, 'schema': None, 'type': 'command', 'display_name': 'plucky_squash_wsycsh90wf', 'is_deterministic': True, 'inputs': {'train_data': {'type': 'uri_folder', 'path': 'wasbs://data-container@detectron2work1228828607.blob.core.windows.net/Ready/5m/0bg', 'mode': 'ro_mount'}, 'epochs': {'type': 'string', 'default': '1'}, 'batch': {'type': 'string', 'default': '5'}, 'lr0': {'type': 'string', 'default': '0.0033787'}, 'imgsz': {'type': 'string', 'default': '538'}}, 'outputs': {'default': {'type': 'uri_folder', 'path': 'azureml://datastores/workspaceartifactstore/ExperimentRun/dcid.plucky_squash_wsycsh90wf', 'mode': 'rw_mount'}}, 'yaml_str': None, 'other_parameter': {'status': 'Starting', 'parameters': {}}, 'additional_includes': []}), 'referenced_control_flow_node_instance_id': None, 'kwargs': {'services': {'Tracking': {'endpoint': 'azureml://eastus.api.azureml.ms/mlflow/v1.0/subscriptions/2be2dbbb-7c00-4b84-8fba-4b0199750c01/resourceGroups/marterkist5/providers/Microsoft.MachineLearningServices/workspaces/detectron2-workspace?', 'type': 'Tracking'}, 'Studio': {'endpoint': 'https://ml.azure.com/runs/plucky_squash_wsycsh90wf?wsid=/subscriptions/2be2dbbb-7c00-4b84-8fba-4b0199750c01/resourcegroups/marterkist5/workspaces/detectron2-workspace&tid=a9e09f71-c4d5-45a8-867d-7f23ceb6dfab', 'type': 'Studio'}}, 'status': 'Starting', 'creation_context': <azure.ai.ml.entities._system_data.SystemData object at 0x000002275EEFF310>}, 'instance_id': 'e878effc-56a9-4ae0-b04c-79f89160d171', 'source': 'BUILDER', 'validate_required_input_not_provided': True, 'limits': None, 'identity': {'type': 'user_identity'}, 'distribution': None, 'environment_variables': {}, 'environment': 'yolov8-env:18', 'resources': {'instance_count': 1, 'shm_size': '2g'}, 'queue_settings': None, 'swept': False})"
      ]
     },
     "execution_count": 14,
     "metadata": {},
     "output_type": "execute_result"
    }
   ],
   "source": [
    "from azure.ai.ml import command\n",
    "from azure.ai.ml import Input\n",
    "import os\n",
    "import json\n",
    "\n",
    "# Set job and run\n",
    "job = command(\n",
    "     code=\".\", \n",
    "     command='python yolov8_train.py --traindata ${{inputs.train_data}} --epochs ${{inputs.epochs}} --lr0 ${{inputs.lr0}} --imgsz ${{inputs.imgsz}}',\n",
    "     inputs={\n",
    "         \"train_data\": Input(path=data_path,\n",
    "             type=AssetTypes.URI_FOLDER,\n",
    "             mode=InputOutputModes.RO_MOUNT # Cannot use RW_MOUNT?\n",
    "         ),\n",
    "         \"epochs\": 1,\n",
    "         \"batch\": 5,\n",
    "         \"lr0\": 0.0033787, \n",
    "         \"imgsz\": 538,\n",
    "     },\n",
    "     compute=compute_target,\n",
    "     environment=env_name,\n",
    "     outputs={},  # Add any required outputs here\n",
    "     identity=identity,\n",
    "     experiment_name=\"yolov8-mc\", # cannot use deleted names\n",
    " )\n",
    "\n",
    "ml_client.jobs.create_or_update(job)"
   ]
  },
  {
   "cell_type": "code",
   "execution_count": null,
   "metadata": {
    "jupyter": {
     "outputs_hidden": false,
     "source_hidden": false
    },
    "nteract": {
     "transient": {
      "deleting": false
     }
    }
   },
   "outputs": [],
   "source": [
    "from azure.ai.ml.sweep import Uniform\n",
    "\n",
    "# we will reuse the command_job created before. we call it as a function so that we can apply inputs\n",
    "job_for_sweep = job(\n",
    "    learning_rate=Uniform(min_value=0.0005, max_value=0.005),\n",
    "    momentum=Uniform(min_value=0.9, max_value=0.99),\n",
    ")"
   ]
  }
 ],
 "metadata": {
  "kernel_info": {
   "name": "python310-sdkv2"
  },
  "kernelspec": {
   "display_name": "Python 3 (ipykernel)",
   "language": "python",
   "name": "python3"
  },
  "language_info": {
   "codemirror_mode": {
    "name": "ipython",
    "version": 3
   },
   "file_extension": ".py",
   "mimetype": "text/x-python",
   "name": "python",
   "nbconvert_exporter": "python",
   "pygments_lexer": "ipython3",
   "version": "3.11.5"
  },
  "microsoft": {
   "host": {
    "AzureML": {
     "notebookHasBeenCompleted": true
    }
   },
   "ms_spell_check": {
    "ms_spell_check_language": "en"
   }
  },
  "nteract": {
   "version": "nteract-front-end@1.0.0"
  }
 },
 "nbformat": 4,
 "nbformat_minor": 2
}
