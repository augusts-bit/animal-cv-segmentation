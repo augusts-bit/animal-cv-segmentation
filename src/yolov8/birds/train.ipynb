{
 "cells": [
  {
   "cell_type": "code",
   "execution_count": 1,
   "metadata": {
    "gather": {
     "logged": 1698781538647
    }
   },
   "outputs": [],
   "source": [
    "# Handle to the workspace\n",
    "from azure.ai.ml import MLClient\n",
    "\n",
    "# Authentication package\n",
    "from azure.identity import DefaultAzureCredential\n",
    "\n",
    "credential = DefaultAzureCredential()"
   ]
  },
  {
   "cell_type": "code",
   "execution_count": 2,
   "metadata": {
    "gather": {
     "logged": 1698781541420
    },
    "jupyter": {
     "outputs_hidden": false,
     "source_hidden": false
    },
    "nteract": {
     "transient": {
      "deleting": false
     }
    }
   },
   "outputs": [],
   "source": [
    "# Parameters (make sure these are correct)\n",
    "subscr_id = \"2be2dbbb-7c00-4b84-8fba-4b0199750c01\" \n",
    "resc_name = \"marterkist5\"\n",
    "worksp_name = \"detectron2-workspace\"\n",
    "\n",
    "# Get a handle to the workspace\n",
    "ml_client = MLClient(\n",
    "    credential = credential,\n",
    "    subscription_id = subscr_id,\n",
    "    resource_group_name = resc_name,\n",
    "    workspace_name = worksp_name,\n",
    ")\n",
    "\n",
    "# ws \n",
    "# from azureml.core import Workspace\n",
    "# ws = Workspace(subscr_id, resc_name, worksp_name)"
   ]
  },
  {
   "cell_type": "code",
   "execution_count": 3,
   "metadata": {
    "gather": {
     "logged": 1698781544698
    },
    "jupyter": {
     "outputs_hidden": false,
     "source_hidden": false
    },
    "nteract": {
     "transient": {
      "deleting": false
     }
    }
   },
   "outputs": [
    {
     "name": "stdout",
     "output_type": "stream",
     "text": [
      "You already have a cluster named cpu-cluster32GB, we'll reuse it as is.\n",
      "AMLCompute with name cpu-cluster32GB is created, the compute size is STANDARD_E4S_V3\n"
     ]
    }
   ],
   "source": [
    "### First run az login in a command prompt to make sure you have authenticated using the Azure CLI\n",
    "\n",
    "from azure.ai.ml.entities import AmlCompute\n",
    "\n",
    "cpu_compute_target = \"cpu-cluster32GB\"\n",
    "cpu_size = \"STANDARD_E4S_V3\"\n",
    "\n",
    "gpu_compute_target = \"gpu-cluster28GB\"\n",
    "gpu_size = \"STANDARD_NC4AS_T4_V3\"\n",
    "\n",
    "def create_compute(target, size):\n",
    "    try:\n",
    "        # let's see if the compute target already exists\n",
    "        cluster = ml_client.compute.get(target)\n",
    "        print(\n",
    "            f\"You already have a cluster named {target}, we'll reuse it as is.\"\n",
    "        )\n",
    "\n",
    "    except Exception:\n",
    "        print(\"Creating a new compute target...\")\n",
    "\n",
    "        # Let's create the Azure ML compute object with the intended parameters\n",
    "        cluster = AmlCompute(\n",
    "            # Name assigned to the compute cluster\n",
    "            name=target,\n",
    "            # Azure ML Compute is the on-demand VM service\n",
    "            type=\"amlcompute\",\n",
    "            # VM Family\n",
    "            size=size,\n",
    "            # Minimum running nodes when there is no job running\n",
    "            min_instances=0,\n",
    "            # Nodes in cluster\n",
    "            max_instances=4,\n",
    "            # How many seconds will the node running after the job termination\n",
    "            idle_time_before_scale_down=180,\n",
    "            # Dedicated or LowPriority. The latter is cheaper but there is a chance of job termination\n",
    "            tier=\"Dedicated\",\n",
    "        )\n",
    "\n",
    "        # Now, we pass the object to MLClient's create_or_update method\n",
    "        cluster = ml_client.begin_create_or_update(cluster).result()\n",
    "\n",
    "    print(\n",
    "        f\"AMLCompute with name {cluster.name} is created, the compute size is {cluster.size}\"\n",
    "    )\n",
    "    \n",
    "    return target\n",
    "    \n",
    "compute_target = create_compute(cpu_compute_target, cpu_size)"
   ]
  },
  {
   "cell_type": "code",
   "execution_count": 4,
   "metadata": {
    "gather": {
     "logged": 1698781547772
    },
    "jupyter": {
     "outputs_hidden": false,
     "source_hidden": false
    },
    "nteract": {
     "transient": {
      "deleting": false
     }
    }
   },
   "outputs": [],
   "source": [
    "# For job\n",
    "env_name = \"yolov8-env@latest\"\n",
    "\n",
    "# Or\n",
    "# from azureml.core import Environment\n",
    "# mycustomenv = Environment(name=\"detectron2-env@latest\")"
   ]
  },
  {
   "cell_type": "code",
   "execution_count": 16,
   "metadata": {
    "gather": {
     "logged": 1698781550742
    },
    "jupyter": {
     "outputs_hidden": false,
     "source_hidden": false
    },
    "nteract": {
     "transient": {
      "deleting": false
     }
    }
   },
   "outputs": [],
   "source": [
    "from azure.ai.ml import MLClient, command, Input\n",
    "from azure.ai.ml.constants import AssetTypes, InputOutputModes\n",
    "from azure.identity import DefaultAzureCredential\n",
    "import os\n",
    "\n",
    "# Load from local\n",
    "\n",
    "# Load from local\n",
    "root_path = r\"C:/Users/augus/Documents/Studie/MGI/Internship/detection-segmentation/Data/Ready/test\"\n",
    "data_set = \"10m/0bg\" # Folder in rootpath containing to be used images, masks, annotations (xm/ybg) \n",
    "data_path = os.path.join(root_path, data_set) \n",
    "\n",
    "data_path = r\"C:/Users/augus/Documents/Studie/MGI/Internship/detection-segmentation/Data/Ready/test\" #/YOLO\"\n",
    "\n",
    "# Load from data asset \n",
    "# train_data_asset = ml_client.data.get(\"test_dataasset\", version=\"1\") # Split into train and vali in script\n",
    "# data_path = train_data_asset.id"
   ]
  },
  {
   "cell_type": "code",
   "execution_count": 24,
   "metadata": {
    "gather": {
     "logged": 1698781560134
    },
    "jupyter": {
     "outputs_hidden": false,
     "source_hidden": false
    },
    "nteract": {
     "transient": {
      "deleting": false
     }
    }
   },
   "outputs": [
    {
     "name": "stderr",
     "output_type": "stream",
     "text": [
      "Uploading yolov8 (0.04 MBs): 100%|############################################| 37458/37458 [00:01<00:00, 35054.86it/s]\n",
      "\n",
      "\n",
      "Your file exceeds 100 MB. If you experience low speeds, latency, or broken connections, we recommend using the AzCopyv10 tool for this file transfer.\n",
      "\n",
      "Example: azcopy copy 'C:/Users/augus/Documents/Studie/MGI/Internship/detection-segmentation/Data/Ready/test' 'https://detectron2work1228828607.blob.core.windows.net/azureml-blobstore-03504c2f-c8b0-4ff1-b795-1b7f7d4de4c9/LocalUpload/c5168b5238cf5f66ca45b47db385964e/test' \n",
      "\n",
      "See https://docs.microsoft.com/azure/storage/common/storage-use-azcopy-v10 for more information.\n"
     ]
    },
    {
     "data": {
      "text/html": [
       "<table style=\"width:100%\"><tr><th>Experiment</th><th>Name</th><th>Type</th><th>Status</th><th>Details Page</th></tr><tr><td>yolov8</td><td>dreamy_sponge_wjsrb8bwj2</td><td>command</td><td>Starting</td><td><a href=\"https://ml.azure.com/runs/dreamy_sponge_wjsrb8bwj2?wsid=/subscriptions/2be2dbbb-7c00-4b84-8fba-4b0199750c01/resourcegroups/marterkist5/workspaces/detectron2-workspace&amp;tid=a9e09f71-c4d5-45a8-867d-7f23ceb6dfab\" target=\"_blank\" rel=\"noopener\">Link to Azure Machine Learning studio</a></td></tr></table>"
      ],
      "text/plain": [
       "Command({'parameters': {}, 'init': False, 'name': 'dreamy_sponge_wjsrb8bwj2', 'type': 'command', 'status': 'Starting', 'log_files': None, 'description': None, 'tags': {}, 'properties': {'_azureml.ComputeTargetType': 'amlctrain', 'ContentSnapshotId': '89adec7e-f88f-4092-ba10-1c229dc66c22'}, 'print_as_yaml': True, 'id': '/subscriptions/2be2dbbb-7c00-4b84-8fba-4b0199750c01/resourceGroups/marterkist5/providers/Microsoft.MachineLearningServices/workspaces/detectron2-workspace/jobs/dreamy_sponge_wjsrb8bwj2', 'Resource__source_path': None, 'base_path': 'C:\\\\Users\\\\augus\\\\Documents\\\\Studie\\\\MGI\\\\Internship\\\\detection-segmentation\\\\azure\\\\code\\\\yolov8', 'creation_context': <azure.ai.ml.entities._system_data.SystemData object at 0x000001D76AC68ED0>, 'serialize': <msrest.serialization.Serializer object at 0x000001D76AE6C0D0>, 'allowed_keys': {}, 'key_restriction': False, 'logger': <Logger attr_dict (WARNING)>, 'display_name': 'dreamy_sponge_wjsrb8bwj2', 'experiment_name': 'yolov8', 'compute': 'cpu-cluster32GB', 'services': {'Tracking': {'endpoint': 'azureml://eastus.api.azureml.ms/mlflow/v1.0/subscriptions/2be2dbbb-7c00-4b84-8fba-4b0199750c01/resourceGroups/marterkist5/providers/Microsoft.MachineLearningServices/workspaces/detectron2-workspace?', 'type': 'Tracking'}, 'Studio': {'endpoint': 'https://ml.azure.com/runs/dreamy_sponge_wjsrb8bwj2?wsid=/subscriptions/2be2dbbb-7c00-4b84-8fba-4b0199750c01/resourcegroups/marterkist5/workspaces/detectron2-workspace&tid=a9e09f71-c4d5-45a8-867d-7f23ceb6dfab', 'type': 'Studio'}}, 'comment': None, 'job_inputs': {'train_data': {'type': 'uri_folder', 'path': 'azureml://datastores/workspaceblobstore/paths/LocalUpload/c5168b5238cf5f66ca45b47db385964e/test/', 'mode': 'ro_mount'}, 'epochs': '5', 'batch': '3', 'lr0': '0.00025', 'roi_batch_size': '16'}, 'job_outputs': {'default': {'type': 'uri_folder', 'path': 'azureml://datastores/workspaceartifactstore/ExperimentRun/dcid.dreamy_sponge_wjsrb8bwj2', 'mode': 'rw_mount'}}, 'inputs': {'train_data': <azure.ai.ml.entities._job.pipeline._io.base.NodeInput object at 0x000001D76AE6EC90>, 'epochs': <azure.ai.ml.entities._job.pipeline._io.base.NodeInput object at 0x000001D76AE6D150>, 'batch': <azure.ai.ml.entities._job.pipeline._io.base.NodeInput object at 0x000001D76AE6D4D0>, 'lr0': <azure.ai.ml.entities._job.pipeline._io.base.NodeInput object at 0x000001D76AE6D290>, 'roi_batch_size': <azure.ai.ml.entities._job.pipeline._io.base.NodeInput object at 0x000001D76AE6E310>}, 'outputs': {'default': <azure.ai.ml.entities._job.pipeline._io.base.NodeOutput object at 0x000001D76AE6D610>}, 'component': CommandComponent({'intellectual_property': None, 'auto_increment_version': True, 'source': 'REMOTE.WORKSPACE.JOB', 'is_anonymous': False, 'auto_delete_setting': None, 'name': 'dreamy_sponge_wjsrb8bwj2', 'description': None, 'tags': {}, 'properties': {}, 'print_as_yaml': True, 'id': None, 'Resource__source_path': None, 'base_path': 'C:\\\\Users\\\\augus\\\\Documents\\\\Studie\\\\MGI\\\\Internship\\\\detection-segmentation\\\\azure\\\\code\\\\yolov8', 'creation_context': <azure.ai.ml.entities._system_data.SystemData object at 0x000001D76AC68ED0>, 'serialize': <msrest.serialization.Serializer object at 0x000001D76AE6C790>, 'command': 'python yolov8_train.py --traindata ${{inputs.train_data}}', 'code': '/subscriptions/2be2dbbb-7c00-4b84-8fba-4b0199750c01/resourceGroups/marterkist5/providers/Microsoft.MachineLearningServices/workspaces/detectron2-workspace/codes/edffc120-11a5-4bb6-85c7-16aa626bc83f/versions/1', 'environment_variables': {}, 'environment': '/subscriptions/2be2dbbb-7c00-4b84-8fba-4b0199750c01/resourceGroups/marterkist5/providers/Microsoft.MachineLearningServices/workspaces/detectron2-workspace/environments/yolov8-env/versions/18', 'distribution': None, 'resources': None, 'queue_settings': None, 'version': None, 'latest_version': None, 'schema': None, 'type': 'command', 'display_name': 'dreamy_sponge_wjsrb8bwj2', 'is_deterministic': True, 'inputs': {'train_data': {'type': 'uri_folder', 'path': 'azureml://datastores/workspaceblobstore/paths/LocalUpload/c5168b5238cf5f66ca45b47db385964e/test/', 'mode': 'ro_mount'}, 'epochs': {'type': 'string', 'default': '5'}, 'batch': {'type': 'string', 'default': '3'}, 'lr0': {'type': 'string', 'default': '0.00025'}, 'roi_batch_size': {'type': 'string', 'default': '16'}}, 'outputs': {'default': {'type': 'uri_folder', 'path': 'azureml://datastores/workspaceartifactstore/ExperimentRun/dcid.dreamy_sponge_wjsrb8bwj2', 'mode': 'rw_mount'}}, 'yaml_str': None, 'other_parameter': {'status': 'Starting', 'parameters': {}}, 'additional_includes': []}), 'referenced_control_flow_node_instance_id': None, 'kwargs': {'services': {'Tracking': {'endpoint': 'azureml://eastus.api.azureml.ms/mlflow/v1.0/subscriptions/2be2dbbb-7c00-4b84-8fba-4b0199750c01/resourceGroups/marterkist5/providers/Microsoft.MachineLearningServices/workspaces/detectron2-workspace?', 'type': 'Tracking'}, 'Studio': {'endpoint': 'https://ml.azure.com/runs/dreamy_sponge_wjsrb8bwj2?wsid=/subscriptions/2be2dbbb-7c00-4b84-8fba-4b0199750c01/resourcegroups/marterkist5/workspaces/detectron2-workspace&tid=a9e09f71-c4d5-45a8-867d-7f23ceb6dfab', 'type': 'Studio'}}, 'status': 'Starting', 'creation_context': <azure.ai.ml.entities._system_data.SystemData object at 0x000001D76AC68ED0>}, 'instance_id': '029a02b1-f5b8-4f4b-a3c8-0e9d09946906', 'source': 'BUILDER', 'validate_required_input_not_provided': True, 'limits': None, 'identity': None, 'distribution': None, 'environment_variables': {}, 'environment': 'yolov8-env:18', 'resources': {'instance_count': 1, 'shm_size': '2g'}, 'queue_settings': None, 'swept': False})"
      ]
     },
     "execution_count": 24,
     "metadata": {},
     "output_type": "execute_result"
    }
   ],
   "source": [
    "from azure.ai.ml import command\n",
    "from azure.ai.ml import Input\n",
    "import os\n",
    "import json\n",
    "\n",
    "# Set job and run\n",
    "job = command(\n",
    "     code=\".\", \n",
    "     command='python yolov8_train.py --traindata ${{inputs.train_data}}',\n",
    "     inputs={\n",
    "         \"train_data\": Input(path=data_path,\n",
    "             type=AssetTypes.URI_FOLDER,\n",
    "             mode=InputOutputModes.RO_MOUNT # Mount (.RO_MOUNT) or download (.DOWNLOAD)\n",
    "         ),\n",
    "         \"epochs\": 5,\n",
    "         \"batch\": 3,\n",
    "         \"lr0\": 0.00025, # the real \"batch size\"\n",
    "         \"roi_batch_size\": 16, # the ROI head \"batch size\"\n",
    "     },\n",
    "     compute=compute_target,\n",
    "     environment=env_name,\n",
    "     outputs={},  # Add any required outputs here\n",
    "#      description=description\n",
    " )\n",
    "\n",
    "ml_client.jobs.create_or_update(job)"
   ]
  },
  {
   "cell_type": "code",
   "execution_count": null,
   "metadata": {
    "jupyter": {
     "outputs_hidden": false,
     "source_hidden": false
    },
    "nteract": {
     "transient": {
      "deleting": false
     }
    }
   },
   "outputs": [],
   "source": [
    "from azure.ai.ml.sweep import Uniform\n",
    "\n",
    "# we will reuse the command_job created before. we call it as a function so that we can apply inputs\n",
    "job_for_sweep = job(\n",
    "    learning_rate=Uniform(min_value=0.0005, max_value=0.005),\n",
    "    momentum=Uniform(min_value=0.9, max_value=0.99),\n",
    ")"
   ]
  }
 ],
 "metadata": {
  "kernel_info": {
   "name": "python310-sdkv2"
  },
  "kernelspec": {
   "display_name": "Python 3 (ipykernel)",
   "language": "python",
   "name": "python3"
  },
  "language_info": {
   "codemirror_mode": {
    "name": "ipython",
    "version": 3
   },
   "file_extension": ".py",
   "mimetype": "text/x-python",
   "name": "python",
   "nbconvert_exporter": "python",
   "pygments_lexer": "ipython3",
   "version": "3.11.5"
  },
  "microsoft": {
   "host": {
    "AzureML": {
     "notebookHasBeenCompleted": true
    }
   },
   "ms_spell_check": {
    "ms_spell_check_language": "en"
   }
  },
  "nteract": {
   "version": "nteract-front-end@1.0.0"
  }
 },
 "nbformat": 4,
 "nbformat_minor": 2
}
