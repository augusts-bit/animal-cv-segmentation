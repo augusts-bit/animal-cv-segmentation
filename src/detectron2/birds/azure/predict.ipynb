{
  "cells": [
    {
      "cell_type": "code",
      "execution_count": 12,
      "metadata": {
        "gather": {
          "logged": 1698792436090
        }
      },
      "outputs": [],
      "source": [
        "# Handle to the workspace\n",
        "from azure.ai.ml import MLClient\n",
        "\n",
        "# Authentication package\n",
        "from azure.identity import DefaultAzureCredential\n",
        "\n",
        "credential = DefaultAzureCredential()"
      ]
    },
    {
      "cell_type": "code",
      "execution_count": 13,
      "metadata": {
        "gather": {
          "logged": 1698792439609
        },
        "jupyter": {
          "outputs_hidden": false,
          "source_hidden": false
        },
        "nteract": {
          "transient": {
            "deleting": false
          }
        }
      },
      "outputs": [],
      "source": [
        "from azureml.core import Workspace\n",
        "\n",
        "# Parameters (make sure these are correct)\n",
        "subscr_id = \"\" \n",
        "resc_name = \"\"\n",
        "worksp_name = \"\"\n",
        "\n",
        "# Get a handle to the workspace\n",
        "ml_client = MLClient(\n",
        "    credential = credential,\n",
        "    subscription_id = subscr_id,\n",
        "    resource_group_name = resc_name,\n",
        "    workspace_name = worksp_name,\n",
        ")\n",
        "\n",
        "# ws \n",
        "ws = Workspace(subscr_id, resc_name, worksp_name)"
      ]
    },
    {
      "cell_type": "code",
      "execution_count": 15,
      "metadata": {
        "gather": {
          "logged": 1698792450128
        },
        "jupyter": {
          "outputs_hidden": false,
          "source_hidden": false
        },
        "nteract": {
          "transient": {
            "deleting": false
          }
        }
      },
      "outputs": [
        {
          "name": "stdout",
          "output_type": "stream",
          "text": [
            "You have a cluster named august-test-compute, we'll use it as is.\n",
            "AMLCompute with variable name 'compute_target', the compute size is STANDARD_DS11_V2\n"
          ]
        }
      ],
      "source": [
        "from azure.ai.ml.entities import AmlCompute\n",
        "\n",
        "compute_target = \"august-test-compute\"\n",
        "\n",
        "# let's see if the compute target exists\n",
        "cluster = ml_client.compute.get(compute_target)\n",
        "print(\n",
        "    f\"You have a cluster named {compute_target}, we'll use it as is.\"\n",
        ")\n",
        "\n",
        "# If you get the following error:\n",
        "# 'ClientAuthenticationError: DefaultAzureCredential failed to retrieve a token from the included credentials'\n",
        "# You may need to authenticate the compute (somewhere above)\n",
        "\n",
        "# If you want to create a compute from Python:\n",
        "\n",
        "# try:\n",
        "#     # let's see if the compute target already exists\n",
        "#     cluster = ml_client.compute.get(compute_target)\n",
        "#     print(\n",
        "#         f\"You already have a cluster named {compute_target}, we'll reuse it as is.\"\n",
        "#     )\n",
        "\n",
        "# except Exception:\n",
        "#     print(\"Creating a new gpu compute target...\")\n",
        "\n",
        "    # # Let's create the Azure ML compute object with the intended parameters\n",
        "    # cluster = AmlCompute(\n",
        "    #     # Name assigned to the compute cluster\n",
        "    #     name=\"cpu-cluster\",\n",
        "    #     # Azure ML Compute is the on-demand VM service\n",
        "    #     type=\"amlcompute\",\n",
        "    #     # VM Family\n",
        "    #     size=\"Standard_E4ds_v4\",\n",
        "    #     # Minimum running nodes when there is no job running\n",
        "    #     min_instances=0,\n",
        "    #     # Nodes in cluster\n",
        "    #     max_instances=4,\n",
        "    #     # How many seconds will the node running after the job termination\n",
        "    #     idle_time_before_scale_down=180,\n",
        "    #     # Dedicated or LowPriority. The latter is cheaper but there is a chance of job termination\n",
        "    #     tier=\"Dedicated\",\n",
        "    # )\n",
        "\n",
        "    # # Now, we pass the object to MLClient's create_or_update method\n",
        "    # cluster = ml_client.begin_create_or_update(cluster).result()\n",
        "\n",
        "print(\n",
        "    f\"AMLCompute with variable name 'compute_target', the compute size is {cluster.size}\"\n",
        ")"
      ]
    },
    {
      "cell_type": "code",
      "execution_count": 16,
      "metadata": {
        "gather": {
          "logged": 1698792454177
        },
        "jupyter": {
          "outputs_hidden": false,
          "source_hidden": false
        },
        "nteract": {
          "transient": {
            "deleting": false
          }
        }
      },
      "outputs": [],
      "source": [
        "# For job\n",
        "env_name = \"test4-environment@latest\"\n",
        "\n",
        "# Or\n",
        "from azureml.core import Environment\n",
        "mycustomenv = Environment(name=\"test4-environment@latest\")"
      ]
    },
    {
      "cell_type": "code",
      "execution_count": 17,
      "metadata": {
        "gather": {
          "logged": 1698792467771
        },
        "jupyter": {
          "outputs_hidden": false,
          "source_hidden": false
        },
        "nteract": {
          "transient": {
            "deleting": false
          }
        }
      },
      "outputs": [
        {
          "data": {
            "text/plain": [
              "'model'"
            ]
          },
          "execution_count": 17,
          "metadata": {},
          "output_type": "execute_result"
        }
      ],
      "source": [
        "from azure.ai.ml import MLClient, command, Input\n",
        "from azure.ai.ml.constants import AssetTypes, InputOutputModes\n",
        "from azure.identity import DefaultAzureCredential\n",
        "from azureml.core import Workspace, Model\n",
        "\n",
        "# Load registered model\n",
        "model_asset = Model(ws, name='test-model') # latest version, otherwise ', version = ...'\n",
        "\n",
        "# Download to local folder\n",
        "model_asset.download(exist_ok=True) "
      ]
    },
    {
      "cell_type": "code",
      "execution_count": 18,
      "metadata": {
        "gather": {
          "logged": 1698792471023
        },
        "jupyter": {
          "outputs_hidden": false,
          "source_hidden": false
        },
        "nteract": {
          "transient": {
            "deleting": false
          }
        }
      },
      "outputs": [],
      "source": [
        "from azure.ai.ml import command\n",
        "from azure.ai.ml import Input\n",
        "import os\n",
        "\n",
        "# Load data asset containing raster(s) for prediction\n",
        "test_data_asset = ml_client.data.get(\"test-test-dataset\", version=\"1\")\n",
        "\n",
        "# Please name here the rasters in the dataset for prediction (check if correct name)\n",
        "rasters = ['steenplaat_vlucht1', 'waterdunen_vlucht2']\n",
        "create_subset = \"yes\" # ('yes' or 'no') subset takes less time\n",
        "\n"
      ]
    },
    {
      "cell_type": "code",
      "execution_count": 19,
      "metadata": {
        "gather": {
          "logged": 1698792610859
        },
        "jupyter": {
          "outputs_hidden": false,
          "source_hidden": false
        },
        "nteract": {
          "transient": {
            "deleting": false
          }
        }
      },
      "outputs": [
        {
          "name": "stderr",
          "output_type": "stream",
          "text": [
            "Class AutoDeleteSettingSchema: This is an experimental class, and may change at any time. Please see https://aka.ms/azuremlexperimental for more information.\n",
            "Class AutoDeleteConditionSchema: This is an experimental class, and may change at any time. Please see https://aka.ms/azuremlexperimental for more information.\n",
            "Class BaseAutoDeleteSettingSchema: This is an experimental class, and may change at any time. Please see https://aka.ms/azuremlexperimental for more information.\n",
            "Class IntellectualPropertySchema: This is an experimental class, and may change at any time. Please see https://aka.ms/azuremlexperimental for more information.\n",
            "Class ProtectionLevelSchema: This is an experimental class, and may change at any time. Please see https://aka.ms/azuremlexperimental for more information.\n",
            "Class BaseIntellectualPropertySchema: This is an experimental class, and may change at any time. Please see https://aka.ms/azuremlexperimental for more information.\n",
            "Your file exceeds 100 MB. If you experience low speeds, latency, or broken connections, we recommend using the AzCopyv10 tool for this file transfer.\n",
            "\n",
            "Example: azcopy copy '/mnt/batch/tasks/shared/LS_root/mounts/clusters/august-test-compute/code/Users/august.slomp' 'https://testworkspace1526827915.blob.core.windows.net/5c0ccb65-2452-403e-b5f7-d923b4e3f954-o7wttwf53006dxx1udygt9u4fo/august.slomp' \n",
            "\n",
            "See https://docs.microsoft.com/azure/storage/common/storage-use-azcopy-v10 for more information.\n",
            "Uploading august.slomp (352.54 MBs): 100%|██████████| 352539335/352539335 [00:03<00:00, 91576333.63it/s] \n",
            "\n",
            "\n"
          ]
        },
        {
          "data": {
            "text/html": [
              "<table style=\"width:100%\"><tr><th>Experiment</th><th>Name</th><th>Type</th><th>Status</th><th>Details Page</th></tr><tr><td>august</td><td>honest_school_5xz13mzxls</td><td>command</td><td>Starting</td><td><a href=\"https://ml.azure.com/runs/honest_school_5xz13mzxls?wsid=/subscriptions/6f2f075e-f6b5-489d-a5cb-33a1d8c5fe51/resourcegroups/test-resource/workspaces/test-workspace&amp;tid=27d137e5-761f-4dc1-af88-d26430abb18f\" target=\"_blank\" rel=\"noopener\">Link to Azure Machine Learning studio</a></td></tr></table>"
            ],
            "text/plain": [
              "Command({'parameters': {}, 'init': False, 'name': 'honest_school_5xz13mzxls', 'type': 'command', 'status': 'Starting', 'log_files': None, 'description': None, 'tags': {}, 'properties': {'_azureml.ComputeTargetType': 'amlctrain', 'ContentSnapshotId': 'f7a1d390-3a2b-4fee-9a13-8dffd14df866'}, 'print_as_yaml': True, 'id': '/subscriptions/6f2f075e-f6b5-489d-a5cb-33a1d8c5fe51/resourceGroups/test-resource/providers/Microsoft.MachineLearningServices/workspaces/test-workspace/jobs/honest_school_5xz13mzxls', 'Resource__source_path': None, 'base_path': '/mnt/batch/tasks/shared/LS_root/mounts/clusters/august-test-compute/code/Users/august.slomp', 'creation_context': <azure.ai.ml.entities._system_data.SystemData object at 0x7fa683d2a9e0>, 'serialize': <msrest.serialization.Serializer object at 0x7fa683d2aa10>, 'allowed_keys': {}, 'key_restriction': False, 'logger': <Logger attr_dict (WARNING)>, 'display_name': 'honest_school_5xz13mzxls', 'experiment_name': 'august', 'compute': None, 'services': {'Tracking': {'endpoint': 'azureml://westeurope.api.azureml.ms/mlflow/v1.0/subscriptions/6f2f075e-f6b5-489d-a5cb-33a1d8c5fe51/resourceGroups/test-resource/providers/Microsoft.MachineLearningServices/workspaces/test-workspace?', 'type': 'Tracking'}, 'Studio': {'endpoint': 'https://ml.azure.com/runs/honest_school_5xz13mzxls?wsid=/subscriptions/6f2f075e-f6b5-489d-a5cb-33a1d8c5fe51/resourcegroups/test-resource/workspaces/test-workspace&tid=27d137e5-761f-4dc1-af88-d26430abb18f', 'type': 'Studio'}}, 'comment': None, 'job_inputs': {'rasterdata': {'type': 'uri_folder', 'path': 'test-test-dataset:1', 'mode': 'ro_mount'}}, 'job_outputs': {'default': {'type': 'uri_folder', 'path': 'azureml://datastores/workspaceartifactstore/ExperimentRun/dcid.honest_school_5xz13mzxls', 'mode': 'rw_mount'}}, 'inputs': {'rasterdata': <azure.ai.ml.entities._job.pipeline._io.base.NodeInput object at 0x7fa683d2ae90>}, 'outputs': {'default': <azure.ai.ml.entities._job.pipeline._io.base.NodeOutput object at 0x7fa683d2a0e0>}, 'component': CommandComponent({'intellectual_property': None, 'auto_increment_version': True, 'source': 'REMOTE.WORKSPACE.JOB', 'is_anonymous': False, 'auto_delete_setting': None, 'name': 'honest_school_5xz13mzxls', 'description': None, 'tags': {}, 'properties': {}, 'print_as_yaml': True, 'id': None, 'Resource__source_path': None, 'base_path': PosixPath('.'), 'creation_context': <azure.ai.ml.entities._system_data.SystemData object at 0x7fa683d2a9e0>, 'serialize': <msrest.serialization.Serializer object at 0x7fa683d2b5e0>, 'command': 'python src/detectron2_predict.py --rasterdata ${{inputs.rasterdata}} --rasternames${{rasters}} --create_subset${{create_subset}}', 'code': '/subscriptions/6f2f075e-f6b5-489d-a5cb-33a1d8c5fe51/resourceGroups/test-resource/providers/Microsoft.MachineLearningServices/workspaces/test-workspace/codes/f0dc5ebc-d8e8-4384-99bb-e995bac7f594/versions/1', 'environment_variables': {}, 'environment': '/subscriptions/6f2f075e-f6b5-489d-a5cb-33a1d8c5fe51/resourceGroups/test-resource/providers/Microsoft.MachineLearningServices/workspaces/test-workspace/environments/test4-environment/versions/9', 'distribution': None, 'resources': None, 'queue_settings': None, 'version': None, 'latest_version': None, 'schema': None, 'type': 'command', 'display_name': 'honest_school_5xz13mzxls', 'is_deterministic': True, 'inputs': {'rasterdata': {'type': 'uri_folder', 'path': '/subscriptions/6f2f075e-f6b5-489d-a5cb-33a1d8c5fe51/resourceGroups/test-resource/providers/Microsoft.MachineLearningServices/workspaces/test-workspace/data/test-test-dataset/versions/1', 'mode': 'ro_mount'}}, 'outputs': {'default': {'type': 'uri_folder', 'path': 'azureml://datastores/workspaceartifactstore/ExperimentRun/dcid.honest_school_5xz13mzxls', 'mode': 'rw_mount'}}, 'yaml_str': None, 'other_parameter': {'status': 'Starting', 'parameters': {}}, 'additional_includes': [], 'CommandComponent__additional_includes_obj': None}), 'referenced_control_flow_node_instance_id': None, 'kwargs': {'services': {'Tracking': {'endpoint': 'azureml://westeurope.api.azureml.ms/mlflow/v1.0/subscriptions/6f2f075e-f6b5-489d-a5cb-33a1d8c5fe51/resourceGroups/test-resource/providers/Microsoft.MachineLearningServices/workspaces/test-workspace?', 'type': 'Tracking'}, 'Studio': {'endpoint': 'https://ml.azure.com/runs/honest_school_5xz13mzxls?wsid=/subscriptions/6f2f075e-f6b5-489d-a5cb-33a1d8c5fe51/resourcegroups/test-resource/workspaces/test-workspace&tid=27d137e5-761f-4dc1-af88-d26430abb18f', 'type': 'Studio'}}, 'status': 'Starting', 'creation_context': <azure.ai.ml.entities._system_data.SystemData object at 0x7fa683d2a9e0>}, 'instance_id': 'b8cd81bb-bd8e-4c7b-bab0-1907cf1bbe27', 'source': 'BUILDER', 'validate_required_input_not_provided': True, 'limits': None, 'identity': None, 'distribution': None, 'environment_variables': {}, 'environment': 'test4-environment:9', 'resources': {'instance_count': 1, 'shm_size': '2g'}, 'queue_settings': {'job_tier': 'standard'}, 'swept': False})"
            ]
          },
          "execution_count": 19,
          "metadata": {},
          "output_type": "execute_result"
        }
      ],
      "source": [
        "# Set job and run\n",
        "job = command(\n",
        "    code=\".\", \n",
        "    command='python detectron2_predict.py --rasterdata ${{inputs.rasterdata}} --rasternames${{rasters}} --create_subset${{create_subset}}',\n",
        "    inputs={\n",
        "        \"rasterdata\": Input(path=test_data_asset.id,\n",
        "            type=AssetTypes.URI_FOLDER,\n",
        "            mode=InputOutputModes.RO_MOUNT # Mount (.RO_MOUNT) or download (.DOWNLOAD)\n",
        "        )\n",
        "    },\n",
        "    environment=env_name,\n",
        "    outputs={},  # Add any required outputs here\n",
        " )\n",
        "\n",
        "ml_client.jobs.create_or_update(job)"
      ]
    }
  ],
  "metadata": {
    "kernel_info": {
      "name": "python310-sdkv2"
    },
    "kernelspec": {
      "display_name": "Python 3.10 - SDK v2",
      "language": "python",
      "name": "python310-sdkv2"
    },
    "language_info": {
      "codemirror_mode": {
        "name": "ipython",
        "version": 3
      },
      "file_extension": ".py",
      "mimetype": "text/x-python",
      "name": "python",
      "nbconvert_exporter": "python",
      "pygments_lexer": "ipython3",
      "version": "3.10.11"
    },
    "microsoft": {
      "host": {
        "AzureML": {
          "notebookHasBeenCompleted": true
        }
      },
      "ms_spell_check": {
        "ms_spell_check_language": "en"
      }
    },
    "nteract": {
      "version": "nteract-front-end@1.0.0"
    }
  },
  "nbformat": 4,
  "nbformat_minor": 2
}
