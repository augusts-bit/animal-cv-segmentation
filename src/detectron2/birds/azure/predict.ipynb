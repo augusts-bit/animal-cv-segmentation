{
  "cells": [
    {
      "cell_type": "code",
      "execution_count": 12,
      "metadata": {
        "gather": {
          "logged": 1698792436090
        }
      },
      "outputs": [],
      "source": [
        "# Handle to the workspace\n",
        "from azure.ai.ml import MLClient\n",
        "\n",
        "# Authentication package\n",
        "from azure.identity import DefaultAzureCredential\n",
        "\n",
        "credential = DefaultAzureCredential()"
      ]
    },
    {
      "cell_type": "code",
      "execution_count": 13,
      "metadata": {
        "gather": {
          "logged": 1698792439609
        },
        "jupyter": {
          "outputs_hidden": false,
          "source_hidden": false
        },
        "nteract": {
          "transient": {
            "deleting": false
          }
        }
      },
      "outputs": [],
      "source": [
        "from azureml.core import Workspace\n",
        "\n",
        "# Parameters (make sure these are correct)\n",
        "subscr_id = \"\" \n",
        "resc_name = \"\"\n",
        "worksp_name = \"\"\n",
        "\n",
        "# Get a handle to the workspace\n",
        "ml_client = MLClient(\n",
        "    credential = credential,\n",
        "    subscription_id = subscr_id,\n",
        "    resource_group_name = resc_name,\n",
        "    workspace_name = worksp_name,\n",
        ")\n",
        "\n",
        "# ws \n",
        "ws = Workspace(subscr_id, resc_name, worksp_name)"
      ]
    },
    {
      "cell_type": "code",
      "execution_count": 15,
      "metadata": {
        "gather": {
          "logged": 1698792450128
        },
        "jupyter": {
          "outputs_hidden": false,
          "source_hidden": false
        },
        "nteract": {
          "transient": {
            "deleting": false
          }
        }
      },
      "outputs": [
        {
          "name": "stdout",
          "output_type": "stream",
          "text": [
            "You have a cluster named august-test-compute, we'll use it as is.\n",
            "AMLCompute with variable name 'compute_target', the compute size is STANDARD_DS11_V2\n"
          ]
        }
      ],
      "source": [
        "from azure.ai.ml.entities import AmlCompute\n",
        "\n",
        "compute_target = \"august-test-compute\"\n",
        "\n",
        "# let's see if the compute target exists\n",
        "cluster = ml_client.compute.get(compute_target)\n",
        "print(\n",
        "    f\"You have a cluster named {compute_target}, we'll use it as is.\"\n",
        ")\n",
        "\n",
        "# If you get the following error:\n",
        "# 'ClientAuthenticationError: DefaultAzureCredential failed to retrieve a token from the included credentials'\n",
        "# You may need to authenticate the compute (somewhere above)\n",
        "\n",
        "# If you want to create a compute from Python:\n",
        "\n",
        "# try:\n",
        "#     # let's see if the compute target already exists\n",
        "#     cluster = ml_client.compute.get(compute_target)\n",
        "#     print(\n",
        "#         f\"You already have a cluster named {compute_target}, we'll reuse it as is.\"\n",
        "#     )\n",
        "\n",
        "# except Exception:\n",
        "#     print(\"Creating a new gpu compute target...\")\n",
        "\n",
        "    # # Let's create the Azure ML compute object with the intended parameters\n",
        "    # cluster = AmlCompute(\n",
        "    #     # Name assigned to the compute cluster\n",
        "    #     name=\"cpu-cluster\",\n",
        "    #     # Azure ML Compute is the on-demand VM service\n",
        "    #     type=\"amlcompute\",\n",
        "    #     # VM Family\n",
        "    #     size=\"Standard_E4ds_v4\",\n",
        "    #     # Minimum running nodes when there is no job running\n",
        "    #     min_instances=0,\n",
        "    #     # Nodes in cluster\n",
        "    #     max_instances=4,\n",
        "    #     # How many seconds will the node running after the job termination\n",
        "    #     idle_time_before_scale_down=180,\n",
        "    #     # Dedicated or LowPriority. The latter is cheaper but there is a chance of job termination\n",
        "    #     tier=\"Dedicated\",\n",
        "    # )\n",
        "\n",
        "    # # Now, we pass the object to MLClient's create_or_update method\n",
        "    # cluster = ml_client.begin_create_or_update(cluster).result()\n",
        "\n",
        "print(\n",
        "    f\"AMLCompute with variable name 'compute_target', the compute size is {cluster.size}\"\n",
        ")"
      ]
    },
    {
      "cell_type": "code",
      "execution_count": 16,
      "metadata": {
        "gather": {
          "logged": 1698792454177
        },
        "jupyter": {
          "outputs_hidden": false,
          "source_hidden": false
        },
        "nteract": {
          "transient": {
            "deleting": false
          }
        }
      },
      "outputs": [],
      "source": [
        "# For job\n",
        "env_name = \"test4-environment@latest\"\n",
        "\n",
        "# Or\n",
        "from azureml.core import Environment\n",
        "mycustomenv = Environment(name=\"test4-environment@latest\")"
      ]
    },
    {
      "cell_type": "code",
      "execution_count": 17,
      "metadata": {
        "gather": {
          "logged": 1698792467771
        },
        "jupyter": {
          "outputs_hidden": false,
          "source_hidden": false
        },
        "nteract": {
          "transient": {
            "deleting": false
          }
        }
      },
      "outputs": [
        {
          "data": {
            "text/plain": [
              "'model'"
            ]
          },
          "execution_count": 17,
          "metadata": {},
          "output_type": "execute_result"
        }
      ],
      "source": [
        "from azure.ai.ml import MLClient, command, Input\n",
        "from azure.ai.ml.constants import AssetTypes, InputOutputModes\n",
        "from azure.identity import DefaultAzureCredential\n",
        "from azureml.core import Workspace, Model\n",
        "\n",
        "# Load registered model\n",
        "model_asset = Model(ws, name='test-model') # latest version, otherwise ', version = ...'\n",
        "\n",
        "# Download to local folder\n",
        "model_asset.download(exist_ok=True) "
      ]
    },
    {
      "cell_type": "code",
      "execution_count": 18,
      "metadata": {
        "gather": {
          "logged": 1698792471023
        },
        "jupyter": {
          "outputs_hidden": false,
          "source_hidden": false
        },
        "nteract": {
          "transient": {
            "deleting": false
          }
        }
      },
      "outputs": [],
      "source": [
        "from azure.ai.ml import command\n",
        "from azure.ai.ml import Input\n",
        "import os\n",
        "\n",
        "# Load data asset containing raster(s) for prediction\n",
        "test_data_asset = ml_client.data.get(\"test-test-dataset\", version=\"1\")\n",
        "\n",
        "# Please name here the rasters in the dataset for prediction (check if correct name)\n",
        "rasters = ['steenplaat_vlucht1', 'waterdunen_vlucht2']\n",
        "create_subset = \"yes\" # ('yes' or 'no') subset takes less time\n",
        "\n"
      ]
    },
    {
      "cell_type": "code",
      "execution_count": null,
      "metadata": {
        "gather": {
          "logged": 1698792610859
        },
        "jupyter": {
          "outputs_hidden": false,
          "source_hidden": false
        },
        "nteract": {
          "transient": {
            "deleting": false
          }
        }
      },
      "outputs": [],
      "source": [
        "# Set job and run\n",
        "job = command(\n",
        "    code=\".\", \n",
        "    command='python detectron2_predict.py --rasterdata ${{inputs.rasterdata}} --rasternames${{rasters}} --create_subset${{create_subset}}',\n",
        "    inputs={\n",
        "        \"rasterdata\": Input(path=test_data_asset.id,\n",
        "            type=AssetTypes.URI_FOLDER,\n",
        "            mode=InputOutputModes.RO_MOUNT # Mount (.RO_MOUNT) or download (.DOWNLOAD)\n",
        "        )\n",
        "    },\n",
        "    environment=env_name,\n",
        "    outputs={},  # Add any required outputs here\n",
        " )\n",
        "\n",
        "ml_client.jobs.create_or_update(job)"
      ]
    }
  ],
  "metadata": {
    "kernel_info": {
      "name": "python310-sdkv2"
    },
    "kernelspec": {
      "display_name": "Python 3.10 - SDK v2",
      "language": "python",
      "name": "python310-sdkv2"
    },
    "language_info": {
      "codemirror_mode": {
        "name": "ipython",
        "version": 3
      },
      "file_extension": ".py",
      "mimetype": "text/x-python",
      "name": "python",
      "nbconvert_exporter": "python",
      "pygments_lexer": "ipython3",
      "version": "3.10.11"
    },
    "microsoft": {
      "host": {
        "AzureML": {
          "notebookHasBeenCompleted": true
        }
      },
      "ms_spell_check": {
        "ms_spell_check_language": "en"
      }
    },
    "nteract": {
      "version": "nteract-front-end@1.0.0"
    }
  },
  "nbformat": 4,
  "nbformat_minor": 2
}
