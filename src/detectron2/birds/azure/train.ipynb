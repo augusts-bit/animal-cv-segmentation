{
  "cells": [
    {
      "cell_type": "code",
      "execution_count": 10,
      "metadata": {
        "gather": {
          "logged": 1698781538647
        }
      },
      "outputs": [],
      "source": [
        "# Handle to the workspace\n",
        "from azure.ai.ml import MLClient\n",
        "\n",
        "# Authentication package\n",
        "from azure.identity import DefaultAzureCredential\n",
        "\n",
        "credential = DefaultAzureCredential()"
      ]
    },
    {
      "cell_type": "code",
      "execution_count": 11,
      "metadata": {
        "gather": {
          "logged": 1698781541420
        },
        "jupyter": {
          "outputs_hidden": false,
          "source_hidden": false
        },
        "nteract": {
          "transient": {
            "deleting": false
          }
        }
      },
      "outputs": [],
      "source": [
        "from azureml.core import Workspace\n",
        "\n",
        "# Parameters (make sure these are correct)\n",
        "subscr_id = \"\" \n",
        "resc_name = \"\"\n",
        "worksp_name = \"\"\n",
        "\n",
        "# Get a handle to the workspace\n",
        "ml_client = MLClient(\n",
        "    credential = credential,\n",
        "    subscription_id = subscr_id,\n",
        "    resource_group_name = resc_name,\n",
        "    workspace_name = worksp_name,\n",
        ")\n",
        "\n",
        "# ws \n",
        "ws = Workspace(subscr_id, resc_name, worksp_name)"
      ]
    },
    {
      "cell_type": "code",
      "execution_count": 12,
      "metadata": {
        "gather": {
          "logged": 1698781544698
        },
        "jupyter": {
          "outputs_hidden": false,
          "source_hidden": false
        },
        "nteract": {
          "transient": {
            "deleting": false
          }
        }
      },
      "outputs": [
        {
          "name": "stdout",
          "output_type": "stream",
          "text": [
            "You have a cluster named august-test-compute, we'll use it as is.\n",
            "AMLCompute with variable name 'compute_target', the compute size is STANDARD_DS11_V2\n"
          ]
        }
      ],
      "source": [
        "from azure.ai.ml.entities import AmlCompute\n",
        "\n",
        "compute_target = \"august-test-compute\"\n",
        "\n",
        "# let's see if the compute target exists\n",
        "cluster = ml_client.compute.get(compute_target)\n",
        "print(\n",
        "    f\"You have a cluster named {compute_target}, we'll use it as is.\"\n",
        ")\n",
        "\n",
        "# If you get the following error:\n",
        "# 'ClientAuthenticationError: DefaultAzureCredential failed to retrieve a token from the included credentials'\n",
        "# You may need to authenticate the compute (somewhere above)\n",
        "\n",
        "# If you want to create a compute from Python:\n",
        "\n",
        "# try:\n",
        "#     # let's see if the compute target already exists\n",
        "#     cluster = ml_client.compute.get(compute_target)\n",
        "#     print(\n",
        "#         f\"You already have a cluster named {compute_target}, we'll reuse it as is.\"\n",
        "#     )\n",
        "\n",
        "# except Exception:\n",
        "#     print(\"Creating a new gpu compute target...\")\n",
        "\n",
        "    # # Let's create the Azure ML compute object with the intended parameters\n",
        "    # cluster = AmlCompute(\n",
        "    #     # Name assigned to the compute cluster\n",
        "    #     name=\"cpu-cluster\",\n",
        "    #     # Azure ML Compute is the on-demand VM service\n",
        "    #     type=\"amlcompute\",\n",
        "    #     # VM Family\n",
        "    #     size=\"Standard_E4ds_v4\",\n",
        "    #     # Minimum running nodes when there is no job running\n",
        "    #     min_instances=0,\n",
        "    #     # Nodes in cluster\n",
        "    #     max_instances=4,\n",
        "    #     # How many seconds will the node running after the job termination\n",
        "    #     idle_time_before_scale_down=180,\n",
        "    #     # Dedicated or LowPriority. The latter is cheaper but there is a chance of job termination\n",
        "    #     tier=\"Dedicated\",\n",
        "    # )\n",
        "\n",
        "    # # Now, we pass the object to MLClient's create_or_update method\n",
        "    # cluster = ml_client.begin_create_or_update(cluster).result()\n",
        "\n",
        "print(\n",
        "    f\"AMLCompute with variable name 'compute_target', the compute size is {cluster.size}\"\n",
        ")"
      ]
    },
    {
      "cell_type": "code",
      "execution_count": 13,
      "metadata": {
        "gather": {
          "logged": 1698781547772
        },
        "jupyter": {
          "outputs_hidden": false,
          "source_hidden": false
        },
        "nteract": {
          "transient": {
            "deleting": false
          }
        }
      },
      "outputs": [],
      "source": [
        "# For job\n",
        "env_name = \"test4-environment@latest\"\n",
        "\n",
        "# Or\n",
        "from azureml.core import Environment\n",
        "mycustomenv = Environment(name=\"test4-environment@latest\")"
      ]
    },
    {
      "cell_type": "code",
      "execution_count": 14,
      "metadata": {
        "gather": {
          "logged": 1698781550742
        },
        "jupyter": {
          "outputs_hidden": false,
          "source_hidden": false
        },
        "nteract": {
          "transient": {
            "deleting": false
          }
        }
      },
      "outputs": [],
      "source": [
        "from azure.ai.ml import MLClient, command, Input\n",
        "from azure.ai.ml.constants import AssetTypes, InputOutputModes\n",
        "from azure.identity import DefaultAzureCredential\n",
        "\n",
        "# Load data asset\n",
        "train_data_asset = ml_client.data.get(\"test_dataasset\", version=\"1\") # Split into train and vali in script"
      ]
    },
    {
      "cell_type": "code",
      "execution_count": 15,
      "metadata": {
        "gather": {
          "logged": 1698781554044
        },
        "jupyter": {
          "outputs_hidden": false,
          "source_hidden": false
        },
        "nteract": {
          "transient": {
            "deleting": false
          }
        }
      },
      "outputs": [],
      "source": [
        "from azure.ai.ml import command\n",
        "from azure.ai.ml import Input\n",
        "import os\n",
        "import json\n",
        "\n",
        "# Pass hyperparameter values\n",
        "param = {\n",
        "    \"iterations\": 30,\n",
        "    \"learning_rate\": 0.00025,\n",
        "    \"img_per_batch\": 3, # the real \"batch size\"\n",
        "    \"roi_batch_size\": 16 # the ROI head \"batch size\"\n",
        "}\n",
        "\n",
        "# Serialize the dictionary to a JSON file\n",
        "with open('param.json', 'w') as json_file:\n",
        "    json.dump(param, json_file)\n",
        "\n",
        "# Read the contents of param.json to set description of job\n",
        "with open('param.json', 'r') as json_file:\n",
        "    description = json.load(json_file)\n"
      ]
    },
    {
      "cell_type": "code",
      "execution_count": 16,
      "metadata": {
        "gather": {
          "logged": 1698781560134
        },
        "jupyter": {
          "outputs_hidden": false,
          "source_hidden": false
        },
        "nteract": {
          "transient": {
            "deleting": false
          }
        }
      },
      "outputs": [
        {
          "name": "stderr",
          "output_type": "stream",
          "text": [
            "\r\u001b[32mUploading august.slomp (0.1 MBs):   0%|          | 0/100406 [00:00<?, ?it/s]\r\u001b[32mUploading august.slomp (0.1 MBs):  86%|████████▌ | 86279/100406 [00:00<00:00, 789717.95it/s]\r\u001b[32mUploading august.slomp (0.1 MBs): 100%|██████████| 100406/100406 [00:00<00:00, 683601.34it/s]\n",
            "\u001b[39m\n",
            "\n"
          ]
        },
        {
          "data": {
            "text/html": [
              "<table style=\"width:100%\"><tr><th>Experiment</th><th>Name</th><th>Type</th><th>Status</th><th>Details Page</th></tr><tr><td>august</td><td>nifty_zebra_8pg3lfx0x5</td><td>command</td><td>Starting</td><td><a href=\"https://ml.azure.com/runs/nifty_zebra_8pg3lfx0x5?wsid=/subscriptions/6f2f075e-f6b5-489d-a5cb-33a1d8c5fe51/resourcegroups/test-resource/workspaces/test-workspace&amp;tid=27d137e5-761f-4dc1-af88-d26430abb18f\" target=\"_blank\" rel=\"noopener\">Link to Azure Machine Learning studio</a></td></tr></table>"
            ],
            "text/plain": [
              "Command({'parameters': {}, 'init': False, 'name': 'nifty_zebra_8pg3lfx0x5', 'type': 'command', 'status': 'Starting', 'log_files': None, 'description': \"{'iterations': 30, 'learning_rate': 0.00025, 'img_per_batch': 3, 'roi_batch_size': 16}\", 'tags': {}, 'properties': {'_azureml.ComputeTargetType': 'amlctrain', 'ContentSnapshotId': 'b68520b5-d2b0-4e31-bea5-31d1d2fd63bc'}, 'print_as_yaml': True, 'id': '/subscriptions/6f2f075e-f6b5-489d-a5cb-33a1d8c5fe51/resourceGroups/test-resource/providers/Microsoft.MachineLearningServices/workspaces/test-workspace/jobs/nifty_zebra_8pg3lfx0x5', 'Resource__source_path': None, 'base_path': '/mnt/batch/tasks/shared/LS_root/mounts/clusters/august-test-compute/code/Users/august.slomp', 'creation_context': <azure.ai.ml.entities._system_data.SystemData object at 0x7f673036b8e0>, 'serialize': <msrest.serialization.Serializer object at 0x7f673036b070>, 'allowed_keys': {}, 'key_restriction': False, 'logger': <Logger attr_dict (WARNING)>, 'display_name': 'nifty_zebra_8pg3lfx0x5', 'experiment_name': 'august', 'compute': None, 'services': {'Tracking': {'endpoint': 'azureml://westeurope.api.azureml.ms/mlflow/v1.0/subscriptions/6f2f075e-f6b5-489d-a5cb-33a1d8c5fe51/resourceGroups/test-resource/providers/Microsoft.MachineLearningServices/workspaces/test-workspace?', 'type': 'Tracking'}, 'Studio': {'endpoint': 'https://ml.azure.com/runs/nifty_zebra_8pg3lfx0x5?wsid=/subscriptions/6f2f075e-f6b5-489d-a5cb-33a1d8c5fe51/resourcegroups/test-resource/workspaces/test-workspace&tid=27d137e5-761f-4dc1-af88-d26430abb18f', 'type': 'Studio'}}, 'comment': None, 'job_inputs': {'train_data': {'type': 'uri_folder', 'path': 'test_dataasset:1', 'mode': 'ro_mount'}}, 'job_outputs': {'default': {'type': 'uri_folder', 'path': 'azureml://datastores/workspaceartifactstore/ExperimentRun/dcid.nifty_zebra_8pg3lfx0x5', 'mode': 'rw_mount'}}, 'inputs': {'train_data': <azure.ai.ml.entities._job.pipeline._io.base.NodeInput object at 0x7f673036b0a0>}, 'outputs': {'default': <azure.ai.ml.entities._job.pipeline._io.base.NodeOutput object at 0x7f673036b880>}, 'component': CommandComponent({'intellectual_property': None, 'auto_increment_version': True, 'source': 'REMOTE.WORKSPACE.JOB', 'is_anonymous': False, 'auto_delete_setting': None, 'name': 'nifty_zebra_8pg3lfx0x5', 'description': \"{'iterations': 30, 'learning_rate': 0.00025, 'img_per_batch': 3, 'roi_batch_size': 16}\", 'tags': {}, 'properties': {}, 'print_as_yaml': True, 'id': None, 'Resource__source_path': None, 'base_path': PosixPath('.'), 'creation_context': <azure.ai.ml.entities._system_data.SystemData object at 0x7f673036b8e0>, 'serialize': <msrest.serialization.Serializer object at 0x7f673036bf40>, 'command': 'python src/detectron2_train2.py --traindata ${{inputs.train_data}}', 'code': '/subscriptions/6f2f075e-f6b5-489d-a5cb-33a1d8c5fe51/resourceGroups/test-resource/providers/Microsoft.MachineLearningServices/workspaces/test-workspace/codes/343df54a-f689-49c2-afb7-1b1b5d1a2614/versions/1', 'environment_variables': {}, 'environment': '/subscriptions/6f2f075e-f6b5-489d-a5cb-33a1d8c5fe51/resourceGroups/test-resource/providers/Microsoft.MachineLearningServices/workspaces/test-workspace/environments/test4-environment/versions/3', 'distribution': None, 'resources': None, 'queue_settings': None, 'version': None, 'latest_version': None, 'schema': None, 'type': 'command', 'display_name': 'nifty_zebra_8pg3lfx0x5', 'is_deterministic': True, 'inputs': {'train_data': {'type': 'uri_folder', 'path': '/subscriptions/6f2f075e-f6b5-489d-a5cb-33a1d8c5fe51/resourceGroups/test-resource/providers/Microsoft.MachineLearningServices/workspaces/test-workspace/data/test_dataasset/versions/1', 'mode': 'ro_mount'}}, 'outputs': {'default': {'type': 'uri_folder', 'path': 'azureml://datastores/workspaceartifactstore/ExperimentRun/dcid.nifty_zebra_8pg3lfx0x5', 'mode': 'rw_mount'}}, 'yaml_str': None, 'other_parameter': {'status': 'Starting', 'parameters': {}}, 'additional_includes': [], 'CommandComponent__additional_includes_obj': None}), 'referenced_control_flow_node_instance_id': None, 'kwargs': {'services': {'Tracking': {'endpoint': 'azureml://westeurope.api.azureml.ms/mlflow/v1.0/subscriptions/6f2f075e-f6b5-489d-a5cb-33a1d8c5fe51/resourceGroups/test-resource/providers/Microsoft.MachineLearningServices/workspaces/test-workspace?', 'type': 'Tracking'}, 'Studio': {'endpoint': 'https://ml.azure.com/runs/nifty_zebra_8pg3lfx0x5?wsid=/subscriptions/6f2f075e-f6b5-489d-a5cb-33a1d8c5fe51/resourcegroups/test-resource/workspaces/test-workspace&tid=27d137e5-761f-4dc1-af88-d26430abb18f', 'type': 'Studio'}}, 'status': 'Starting', 'creation_context': <azure.ai.ml.entities._system_data.SystemData object at 0x7f673036b8e0>}, 'instance_id': 'd7dad6e6-ae56-4799-b95e-50911d3d8ec7', 'source': 'BUILDER', 'validate_required_input_not_provided': True, 'limits': None, 'identity': None, 'distribution': None, 'environment_variables': {}, 'environment': 'test4-environment:3', 'resources': {'instance_count': 1, 'shm_size': '2g'}, 'queue_settings': {'job_tier': 'standard'}, 'swept': False})"
            ]
          },
          "execution_count": 16,
          "metadata": {},
          "output_type": "execute_result"
        }
      ],
      "source": [
        "# Set job and run\n",
        "job = command(\n",
        "     code=\".\", \n",
        "     command='python detectron2_train.py --traindata ${{inputs.train_data}}',\n",
        "     inputs={\n",
        "         \"train_data\": Input(path=train_data_asset.id,\n",
        "             type=AssetTypes.URI_FOLDER,\n",
        "             mode=InputOutputModes.RO_MOUNT # Mount (.RO_MOUNT) or download (.DOWNLOAD)\n",
        "         ) \n",
        "     },\n",
        "     environment=env_name,\n",
        "     outputs={},  # Add any required outputs here\n",
        "     description=description\n",
        " )\n",
        "\n",
        "ml_client.jobs.create_or_update(job)"
      ]
    },
    {
      "cell_type": "code",
      "execution_count": null,
      "metadata": {
        "jupyter": {
          "outputs_hidden": false,
          "source_hidden": false
        },
        "nteract": {
          "transient": {
            "deleting": false
          }
        }
      },
      "outputs": [],
      "source": [
        "from azure.ai.ml.sweep import Uniform\n",
        "\n",
        "# we will reuse the command_job created before. we call it as a function so that we can apply inputs\n",
        "job_for_sweep = job(\n",
        "    learning_rate=Uniform(min_value=0.0005, max_value=0.005),\n",
        "    momentum=Uniform(min_value=0.9, max_value=0.99),\n",
        ")"
      ]
    }
  ],
  "metadata": {
    "kernel_info": {
      "name": "python310-sdkv2"
    },
    "kernelspec": {
      "display_name": "Python 3.10 - SDK v2",
      "language": "python",
      "name": "python310-sdkv2"
    },
    "language_info": {
      "codemirror_mode": {
        "name": "ipython",
        "version": 3
      },
      "file_extension": ".py",
      "mimetype": "text/x-python",
      "name": "python",
      "nbconvert_exporter": "python",
      "pygments_lexer": "ipython3",
      "version": "3.10.11"
    },
    "microsoft": {
      "host": {
        "AzureML": {
          "notebookHasBeenCompleted": true
        }
      },
      "ms_spell_check": {
        "ms_spell_check_language": "en"
      }
    },
    "nteract": {
      "version": "nteract-front-end@1.0.0"
    }
  },
  "nbformat": 4,
  "nbformat_minor": 2
}
